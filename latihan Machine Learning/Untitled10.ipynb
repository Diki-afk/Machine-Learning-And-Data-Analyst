{
 "cells": [
  {
   "cell_type": "code",
   "execution_count": 4,
   "metadata": {},
   "outputs": [],
   "source": [
    "import tensorflow as tf\n",
    "import zipfile,os"
   ]
  },
  {
   "cell_type": "code",
   "execution_count": 5,
   "metadata": {},
   "outputs": [
    {
     "name": "stdout",
     "output_type": "stream",
     "text": [
      "--2020-10-26 07:51:23--  https://dicodingacademy.blob.core.windows.net/picodiploma/ml_pemula_academy/messy-vs-clean-room.zip\n",
      "Resolving dicodingacademy.blob.core.windows.net (dicodingacademy.blob.core.windows.net)... 52.239.197.36\n",
      "Connecting to dicodingacademy.blob.core.windows.net (dicodingacademy.blob.core.windows.net)|52.239.197.36|:443... connected.\n",
      "HTTP request sent, awaiting response... 200 OK\n",
      "Length: 70392746 (67M) [application/zip]\n",
      "Saving to: ‘/tmp/messy_vs_clean_room.zip’\n",
      "\n",
      "/tmp/messy_vs_clean 100%[===================>]  67,13M   445KB/s    in 2m 34s  \n",
      "\n",
      "2020-10-26 07:53:57 (447 KB/s) - ‘/tmp/messy_vs_clean_room.zip’ saved [70392746/70392746]\n",
      "\n"
     ]
    }
   ],
   "source": [
    "!wget --no-check-certificate \\\n",
    "https://dicodingacademy.blob.core.windows.net/picodiploma/ml_pemula_academy/messy-vs-clean-room.zip \\\n",
    "  -O /tmp/messy_vs_clean_room.zip"
   ]
  },
  {
   "cell_type": "code",
   "execution_count": 7,
   "metadata": {},
   "outputs": [],
   "source": [
    "import zipfile,os\n",
    "local_zip = '/tmp/messy_vs_clean_room.zip'\n",
    "zip_ref = zipfile.ZipFile(local_zip, 'r')\n",
    "zip_ref.extractall('/tmp')\n",
    "zip_ref.close()\n",
    "\n",
    "base_dir = '/tmp/images'\n",
    "train_dir = os.path.join(base_dir, 'train')\n",
    "validation_dir = os.path.join(base_dir, 'val')"
   ]
  },
  {
   "cell_type": "code",
   "execution_count": 8,
   "metadata": {},
   "outputs": [
    {
     "data": {
      "text/plain": [
       "['clean', 'messy']"
      ]
     },
     "execution_count": 8,
     "metadata": {},
     "output_type": "execute_result"
    }
   ],
   "source": [
    "os.listdir('/tmp/images/train')"
   ]
  },
  {
   "cell_type": "code",
   "execution_count": 10,
   "metadata": {},
   "outputs": [
    {
     "data": {
      "text/plain": [
       "['clean', 'messy']"
      ]
     },
     "execution_count": 10,
     "metadata": {},
     "output_type": "execute_result"
    }
   ],
   "source": [
    "os.listdir('/tmp/images/val')"
   ]
  },
  {
   "cell_type": "code",
   "execution_count": 11,
   "metadata": {},
   "outputs": [],
   "source": [
    "#membuat direktori ruangan rapi pada direktori data training \n",
    "train_clean_dir = os.path.join(train_dir, 'clean')\n",
    "\n",
    "#membuat direktori ruangan berantakan pada direktori data training\n",
    "train_messy_dir = os.path.join(train_dir, 'messy')\n",
    "\n",
    "#membuat direktori ruangan rapi pada direktori data validation\n",
    "validation_clean_dir = os.path.join(validation_dir, 'clean')\n",
    "\n",
    "#membuat direktori ruangan berantakan pada direktori data validation\n",
    "validation_messy_dir = os.path.join(validation_dir, 'messy')"
   ]
  },
  {
   "cell_type": "code",
   "execution_count": 14,
   "metadata": {},
   "outputs": [],
   "source": [
    "from tensorflow.keras.preprocessing.image import ImageDataGenerator\n",
    "\n",
    "train_datagen = ImageDataGenerator(\n",
    "                    rescale = 1./255,\n",
    "                    rotation_range = 20,\n",
    "                    horizontal_flip = True,\n",
    "                    shear_range = 0.2,\n",
    "                    fill_mode = 'nearest'\n",
    ")\n",
    "\n",
    "test_datagen = ImageDataGenerator(\n",
    "                rescale = 1./255,\n",
    "                rotation_range = 20,\n",
    "                horizontal_flip = True,\n",
    "                shear_range = 0.2,\n",
    "                fill_mode = 'nearest'\n",
    ")"
   ]
  },
  {
   "cell_type": "code",
   "execution_count": 15,
   "metadata": {},
   "outputs": [
    {
     "name": "stdout",
     "output_type": "stream",
     "text": [
      "Found 192 images belonging to 2 classes.\n",
      "Found 20 images belonging to 2 classes.\n"
     ]
    }
   ],
   "source": [
    "train_generator = train_datagen.flow_from_directory(\n",
    "        train_dir, #direktori data latih\n",
    "        target_size = (150, 150), #mengubah resolusi seluruh gambar menjadi 150x150 pixel\n",
    "        batch_size = 4,\n",
    "        #karena hanya 2 kelas kita menggunakan klasifikasi binary\n",
    "        class_mode = 'binary'\n",
    ")\n",
    "\n",
    "validation_generator = test_datagen.flow_from_directory(\n",
    "        validation_dir, #direktori data validasi\n",
    "        target_size = (150, 150), #mengubah resolusi seluruh gambar menjadi 150x150 pixel\n",
    "        batch_size = 4,\n",
    "        #karena hanya 2 kelas kita menggunakan klasifikasi binary\n",
    "        class_mode = 'binary'\n",
    ")"
   ]
  },
  {
   "cell_type": "code",
   "execution_count": 21,
   "metadata": {},
   "outputs": [],
   "source": [
    "model = tf.keras.models.Sequential([\n",
    "    tf.keras.layers.Conv2D(32, (3, 3), activation='relu', input_shape=(150, 150,3)),\n",
    "    tf.keras.layers.MaxPooling2D(2, 2),\n",
    "    tf.keras.layers.Conv2D(64, (3, 3), activation = 'relu'),\n",
    "    tf.keras.layers.MaxPooling2D(2, 2),\n",
    "    tf.keras.layers.Conv2D(128, (3, 3), activation = 'relu'),\n",
    "    tf.keras.layers.MaxPooling2D(2, 2),\n",
    "    tf.keras.layers.Conv2D(128, (3, 3), activation = 'relu'),\n",
    "    tf.keras.layers.MaxPooling2D(2, 2),\n",
    "    tf.keras.layers.Flatten(),\n",
    "    tf.keras.layers.Dense(512, activation='relu'),\n",
    "    tf.keras.layers.Dense(1, activation='sigmoid')\n",
    "])"
   ]
  },
  {
   "cell_type": "code",
   "execution_count": 25,
   "metadata": {},
   "outputs": [],
   "source": [
    "#compile model dengan 'adam' optimizer loss function 'binary_crossentropy'\n",
    "model.compile(loss='binary_crossentropy',\n",
    "              optimizer='Adam',\n",
    "              metrics=['accuracy'])"
   ]
  },
  {
   "cell_type": "code",
   "execution_count": 26,
   "metadata": {},
   "outputs": [
    {
     "name": "stdout",
     "output_type": "stream",
     "text": [
      "Epoch 1/20\n",
      "25/25 - 5s - loss: 0.7154 - accuracy: 0.5300 - val_loss: 0.6960 - val_accuracy: 0.5000\n",
      "Epoch 2/20\n",
      "25/25 - 4s - loss: 0.6882 - accuracy: 0.5300 - val_loss: 0.6487 - val_accuracy: 0.7500\n",
      "Epoch 3/20\n",
      "25/25 - 4s - loss: 0.7113 - accuracy: 0.4500 - val_loss: 0.6933 - val_accuracy: 0.5000\n",
      "Epoch 4/20\n",
      "25/25 - 4s - loss: 0.6951 - accuracy: 0.5000 - val_loss: 0.6926 - val_accuracy: 0.5000\n",
      "Epoch 5/20\n",
      "25/25 - 5s - loss: 0.6967 - accuracy: 0.5000 - val_loss: 0.6918 - val_accuracy: 0.5000\n",
      "Epoch 6/20\n",
      "25/25 - 5s - loss: 0.6812 - accuracy: 0.5800 - val_loss: 0.6136 - val_accuracy: 0.6000\n",
      "Epoch 7/20\n",
      "25/25 - 4s - loss: 0.6297 - accuracy: 0.6000 - val_loss: 0.7900 - val_accuracy: 0.5500\n",
      "Epoch 8/20\n",
      "25/25 - 5s - loss: 0.6619 - accuracy: 0.5800 - val_loss: 0.6600 - val_accuracy: 0.5500\n",
      "Epoch 9/20\n",
      "25/25 - 5s - loss: 0.5870 - accuracy: 0.7000 - val_loss: 0.5558 - val_accuracy: 0.7500\n",
      "Epoch 10/20\n",
      "25/25 - 4s - loss: 0.5585 - accuracy: 0.7400 - val_loss: 0.5446 - val_accuracy: 0.8000\n",
      "Epoch 11/20\n",
      "25/25 - 4s - loss: 0.6064 - accuracy: 0.7500 - val_loss: 0.5732 - val_accuracy: 0.7000\n",
      "Epoch 12/20\n",
      "25/25 - 4s - loss: 0.6158 - accuracy: 0.6600 - val_loss: 0.5211 - val_accuracy: 0.8500\n",
      "Epoch 13/20\n",
      "25/25 - 4s - loss: 0.6216 - accuracy: 0.7300 - val_loss: 0.6484 - val_accuracy: 0.6500\n",
      "Epoch 14/20\n",
      "25/25 - 4s - loss: 0.5982 - accuracy: 0.7400 - val_loss: 0.5470 - val_accuracy: 0.7500\n",
      "Epoch 15/20\n",
      "25/25 - 4s - loss: 0.5542 - accuracy: 0.7900 - val_loss: 0.6040 - val_accuracy: 0.6000\n",
      "Epoch 16/20\n",
      "25/25 - 4s - loss: 0.5911 - accuracy: 0.6900 - val_loss: 0.5340 - val_accuracy: 0.7500\n",
      "Epoch 17/20\n",
      "25/25 - 4s - loss: 0.5876 - accuracy: 0.7400 - val_loss: 0.4934 - val_accuracy: 0.8000\n",
      "Epoch 18/20\n",
      "25/25 - 4s - loss: 0.5689 - accuracy: 0.7300 - val_loss: 0.5199 - val_accuracy: 0.7000\n",
      "Epoch 19/20\n",
      "25/25 - 4s - loss: 0.5471 - accuracy: 0.7300 - val_loss: 0.5814 - val_accuracy: 0.6500\n",
      "Epoch 20/20\n",
      "25/25 - 4s - loss: 0.5127 - accuracy: 0.7600 - val_loss: 0.5220 - val_accuracy: 0.7000\n"
     ]
    },
    {
     "data": {
      "text/plain": [
       "<tensorflow.python.keras.callbacks.History at 0x7f093ba6d250>"
      ]
     },
     "execution_count": 26,
     "metadata": {},
     "output_type": "execute_result"
    }
   ],
   "source": [
    "#latih model dengan model.fit\n",
    "model.fit(\n",
    "    train_generator,\n",
    "    steps_per_epoch = 25, #berapa batch yang akan dieksekusi pada setiap epoch\n",
    "    epochs = 20, #tambahkan epochs jika akurasi model belum optimal\n",
    "    validation_data = validation_generator, #menampilkan akurasi pengujian data validasi\n",
    "    validation_steps = 5, #berapa batch yg akan dieksekusi pada setiap epoch\n",
    "    verbose = 2\n",
    ")"
   ]
  },
  {
   "cell_type": "code",
   "execution_count": 30,
   "metadata": {},
   "outputs": [
    {
     "ename": "ModuleNotFoundError",
     "evalue": "No module named 'google.colab'",
     "output_type": "error",
     "traceback": [
      "\u001b[0;31m---------------------------------------------------------------------------\u001b[0m",
      "\u001b[0;31mModuleNotFoundError\u001b[0m                       Traceback (most recent call last)",
      "\u001b[0;32m<ipython-input-30-29345c1de515>\u001b[0m in \u001b[0;36m<module>\u001b[0;34m\u001b[0m\n\u001b[1;32m      1\u001b[0m \u001b[0;32mimport\u001b[0m \u001b[0mnumpy\u001b[0m \u001b[0;32mas\u001b[0m \u001b[0mnp\u001b[0m\u001b[0;34m\u001b[0m\u001b[0;34m\u001b[0m\u001b[0m\n\u001b[0;32m----> 2\u001b[0;31m \u001b[0;32mfrom\u001b[0m \u001b[0mgoogle\u001b[0m\u001b[0;34m.\u001b[0m\u001b[0mcolab\u001b[0m \u001b[0;32mimport\u001b[0m \u001b[0mfiles\u001b[0m\u001b[0;34m\u001b[0m\u001b[0;34m\u001b[0m\u001b[0m\n\u001b[0m\u001b[1;32m      3\u001b[0m \u001b[0;32mfrom\u001b[0m \u001b[0mkeras\u001b[0m\u001b[0;34m.\u001b[0m\u001b[0mpreprocessing\u001b[0m \u001b[0;32mimport\u001b[0m \u001b[0mimage\u001b[0m\u001b[0;34m\u001b[0m\u001b[0;34m\u001b[0m\u001b[0m\n\u001b[1;32m      4\u001b[0m \u001b[0;32mimport\u001b[0m \u001b[0mmatplotlib\u001b[0m\u001b[0;34m.\u001b[0m\u001b[0mpyplot\u001b[0m \u001b[0;32mas\u001b[0m \u001b[0mplt\u001b[0m\u001b[0;34m\u001b[0m\u001b[0;34m\u001b[0m\u001b[0m\n\u001b[1;32m      5\u001b[0m \u001b[0;32mimport\u001b[0m \u001b[0mmatplotlib\u001b[0m\u001b[0;34m.\u001b[0m\u001b[0mimage\u001b[0m \u001b[0;32mas\u001b[0m \u001b[0mmpimg\u001b[0m\u001b[0;34m\u001b[0m\u001b[0;34m\u001b[0m\u001b[0m\n",
      "\u001b[0;31mModuleNotFoundError\u001b[0m: No module named 'google.colab'"
     ]
    }
   ],
   "source": [
    "import numpy as np\n",
    "from google.colab import files\n",
    "from keras.preprocessing import image\n",
    "import matplotlib.pyplot as plt\n",
    "import matplotlib.image as mpimg\n",
    "%matplotlib inline\n",
    " \n",
    "uploaded = files.upload()\n",
    " \n",
    "for fn in uploaded.keys():\n",
    " \n",
    "  # predicting images\n",
    "  path = fn\n",
    "  img = image.load_img(path, target_size=(150,150))\n",
    "  imgplot = plt.imshow(img)\n",
    "  x = image.img_to_array(img)\n",
    "  x = np.expand_dims(x, axis=0)\n",
    " \n",
    "  images = np.vstack([x])\n",
    "  classes = model.predict(images, batch_size=10)\n",
    "  \n",
    "  print(fn)\n",
    "  if classes==0:\n",
    "    print('clean')\n",
    "  else:\n",
    "    print('messy')"
   ]
  },
  {
   "cell_type": "code",
   "execution_count": null,
   "metadata": {},
   "outputs": [],
   "source": []
  }
 ],
 "metadata": {
  "kernelspec": {
   "display_name": "Python 3",
   "language": "python",
   "name": "python3"
  },
  "language_info": {
   "codemirror_mode": {
    "name": "ipython",
    "version": 3
   },
   "file_extension": ".py",
   "mimetype": "text/x-python",
   "name": "python",
   "nbconvert_exporter": "python",
   "pygments_lexer": "ipython3",
   "version": "3.8.5"
  }
 },
 "nbformat": 4,
 "nbformat_minor": 4
}
